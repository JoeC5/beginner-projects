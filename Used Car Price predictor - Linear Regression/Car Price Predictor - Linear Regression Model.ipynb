{
 "cells": [
  {
   "cell_type": "markdown",
   "id": "9d344a1e",
   "metadata": {},
   "source": [
    "# Car Price Predictor - Linear Regression Model\n",
    "\n",
    "##### this data comes from kaggle.com - https://www.kaggle.com/datasets/CooperUnion/cardataset"
   ]
  },
  {
   "cell_type": "markdown",
   "id": "5a1516a3",
   "metadata": {},
   "source": [
    "First need to load tools, libraries, and original data set into the notebook.  "
   ]
  },
  {
   "cell_type": "code",
   "execution_count": 9,
   "id": "7c498964",
   "metadata": {},
   "outputs": [
    {
     "data": {
      "text/html": [
       "<div>\n",
       "<style scoped>\n",
       "    .dataframe tbody tr th:only-of-type {\n",
       "        vertical-align: middle;\n",
       "    }\n",
       "\n",
       "    .dataframe tbody tr th {\n",
       "        vertical-align: top;\n",
       "    }\n",
       "\n",
       "    .dataframe thead th {\n",
       "        text-align: right;\n",
       "    }\n",
       "</style>\n",
       "<table border=\"1\" class=\"dataframe\">\n",
       "  <thead>\n",
       "    <tr style=\"text-align: right;\">\n",
       "      <th></th>\n",
       "      <th>Make</th>\n",
       "      <th>Model</th>\n",
       "      <th>Year</th>\n",
       "      <th>Engine Fuel Type</th>\n",
       "      <th>Engine HP</th>\n",
       "      <th>Engine Cylinders</th>\n",
       "      <th>Transmission Type</th>\n",
       "      <th>Driven_Wheels</th>\n",
       "      <th>Number of Doors</th>\n",
       "      <th>Market Category</th>\n",
       "      <th>Vehicle Size</th>\n",
       "      <th>Vehicle Style</th>\n",
       "      <th>highway MPG</th>\n",
       "      <th>city mpg</th>\n",
       "      <th>Popularity</th>\n",
       "      <th>MSRP</th>\n",
       "    </tr>\n",
       "  </thead>\n",
       "  <tbody>\n",
       "    <tr>\n",
       "      <th>0</th>\n",
       "      <td>BMW</td>\n",
       "      <td>1 Series M</td>\n",
       "      <td>2011</td>\n",
       "      <td>premium unleaded (required)</td>\n",
       "      <td>335.0</td>\n",
       "      <td>6.0</td>\n",
       "      <td>MANUAL</td>\n",
       "      <td>rear wheel drive</td>\n",
       "      <td>2.0</td>\n",
       "      <td>Factory Tuner,Luxury,High-Performance</td>\n",
       "      <td>Compact</td>\n",
       "      <td>Coupe</td>\n",
       "      <td>26</td>\n",
       "      <td>19</td>\n",
       "      <td>3916</td>\n",
       "      <td>46135</td>\n",
       "    </tr>\n",
       "    <tr>\n",
       "      <th>1</th>\n",
       "      <td>BMW</td>\n",
       "      <td>1 Series</td>\n",
       "      <td>2011</td>\n",
       "      <td>premium unleaded (required)</td>\n",
       "      <td>300.0</td>\n",
       "      <td>6.0</td>\n",
       "      <td>MANUAL</td>\n",
       "      <td>rear wheel drive</td>\n",
       "      <td>2.0</td>\n",
       "      <td>Luxury,Performance</td>\n",
       "      <td>Compact</td>\n",
       "      <td>Convertible</td>\n",
       "      <td>28</td>\n",
       "      <td>19</td>\n",
       "      <td>3916</td>\n",
       "      <td>40650</td>\n",
       "    </tr>\n",
       "    <tr>\n",
       "      <th>2</th>\n",
       "      <td>BMW</td>\n",
       "      <td>1 Series</td>\n",
       "      <td>2011</td>\n",
       "      <td>premium unleaded (required)</td>\n",
       "      <td>300.0</td>\n",
       "      <td>6.0</td>\n",
       "      <td>MANUAL</td>\n",
       "      <td>rear wheel drive</td>\n",
       "      <td>2.0</td>\n",
       "      <td>Luxury,High-Performance</td>\n",
       "      <td>Compact</td>\n",
       "      <td>Coupe</td>\n",
       "      <td>28</td>\n",
       "      <td>20</td>\n",
       "      <td>3916</td>\n",
       "      <td>36350</td>\n",
       "    </tr>\n",
       "    <tr>\n",
       "      <th>3</th>\n",
       "      <td>BMW</td>\n",
       "      <td>1 Series</td>\n",
       "      <td>2011</td>\n",
       "      <td>premium unleaded (required)</td>\n",
       "      <td>230.0</td>\n",
       "      <td>6.0</td>\n",
       "      <td>MANUAL</td>\n",
       "      <td>rear wheel drive</td>\n",
       "      <td>2.0</td>\n",
       "      <td>Luxury,Performance</td>\n",
       "      <td>Compact</td>\n",
       "      <td>Coupe</td>\n",
       "      <td>28</td>\n",
       "      <td>18</td>\n",
       "      <td>3916</td>\n",
       "      <td>29450</td>\n",
       "    </tr>\n",
       "    <tr>\n",
       "      <th>4</th>\n",
       "      <td>BMW</td>\n",
       "      <td>1 Series</td>\n",
       "      <td>2011</td>\n",
       "      <td>premium unleaded (required)</td>\n",
       "      <td>230.0</td>\n",
       "      <td>6.0</td>\n",
       "      <td>MANUAL</td>\n",
       "      <td>rear wheel drive</td>\n",
       "      <td>2.0</td>\n",
       "      <td>Luxury</td>\n",
       "      <td>Compact</td>\n",
       "      <td>Convertible</td>\n",
       "      <td>28</td>\n",
       "      <td>18</td>\n",
       "      <td>3916</td>\n",
       "      <td>34500</td>\n",
       "    </tr>\n",
       "  </tbody>\n",
       "</table>\n",
       "</div>"
      ],
      "text/plain": [
       "  Make       Model  Year             Engine Fuel Type  Engine HP  \\\n",
       "0  BMW  1 Series M  2011  premium unleaded (required)      335.0   \n",
       "1  BMW    1 Series  2011  premium unleaded (required)      300.0   \n",
       "2  BMW    1 Series  2011  premium unleaded (required)      300.0   \n",
       "3  BMW    1 Series  2011  premium unleaded (required)      230.0   \n",
       "4  BMW    1 Series  2011  premium unleaded (required)      230.0   \n",
       "\n",
       "   Engine Cylinders Transmission Type     Driven_Wheels  Number of Doors  \\\n",
       "0               6.0            MANUAL  rear wheel drive              2.0   \n",
       "1               6.0            MANUAL  rear wheel drive              2.0   \n",
       "2               6.0            MANUAL  rear wheel drive              2.0   \n",
       "3               6.0            MANUAL  rear wheel drive              2.0   \n",
       "4               6.0            MANUAL  rear wheel drive              2.0   \n",
       "\n",
       "                         Market Category Vehicle Size Vehicle Style  \\\n",
       "0  Factory Tuner,Luxury,High-Performance      Compact         Coupe   \n",
       "1                     Luxury,Performance      Compact   Convertible   \n",
       "2                Luxury,High-Performance      Compact         Coupe   \n",
       "3                     Luxury,Performance      Compact         Coupe   \n",
       "4                                 Luxury      Compact   Convertible   \n",
       "\n",
       "   highway MPG  city mpg  Popularity   MSRP  \n",
       "0           26        19        3916  46135  \n",
       "1           28        19        3916  40650  \n",
       "2           28        20        3916  36350  \n",
       "3           28        18        3916  29450  \n",
       "4           28        18        3916  34500  "
      ]
     },
     "execution_count": 9,
     "metadata": {},
     "output_type": "execute_result"
    }
   ],
   "source": [
    "import numpy as np\n",
    "import pandas as pd\n",
    "from sklearn.model_selection import train_test_split\n",
    "from sklearn.linear_model import LinearRegression\n",
    "from sklearn.metrics import mean_squared_error, r2_score\n",
    "import matplotlib.pyplot as plt\n",
    "\n",
    "df = pd.read_csv(r'C:\\Users\\v-joecamp\\OneDrive - Microsoft\\Desktop\\Jupyter Notebook\\car prices.csv')\n",
    "\n",
    "df.head()"
   ]
  },
  {
   "cell_type": "code",
   "execution_count": 10,
   "id": "89cc1e0e",
   "metadata": {},
   "outputs": [
    {
     "data": {
      "text/plain": [
       "Make                    0\n",
       "Model                   0\n",
       "Year                    0\n",
       "Engine Fuel Type        3\n",
       "Engine HP              69\n",
       "Engine Cylinders       30\n",
       "Transmission Type       0\n",
       "Driven_Wheels           0\n",
       "Number of Doors         6\n",
       "Market Category      3742\n",
       "Vehicle Size            0\n",
       "Vehicle Style           0\n",
       "highway MPG             0\n",
       "city mpg                0\n",
       "Popularity              0\n",
       "MSRP                    0\n",
       "dtype: int64"
      ]
     },
     "execution_count": 10,
     "metadata": {},
     "output_type": "execute_result"
    }
   ],
   "source": [
    "#check for missing data\n",
    "df.isnull().sum()"
   ]
  },
  {
   "cell_type": "code",
   "execution_count": 11,
   "id": "288a8b69",
   "metadata": {},
   "outputs": [],
   "source": [
    "#need to clean up the data a bit. In this project I'm just focusing on the follwoing variables: Year, Engine HP, Engine \n",
    "#Cylinders, Number of Doors, highway MPG, city mpg, and MSRP. Therefore, I am cleaning the Engine HP, Engine Cylinders, and \n",
    "#Number of Doors to reflect the average number of each variable in the fields that are missing data. \n",
    "\n",
    "df['Engine HP'].fillna(df['Engine HP'].median(), inplace=True)\n",
    "df['Engine Cylinders'].fillna(df['Engine Cylinders'].median(), inplace=True)\n",
    "df['Number of Doors'].fillna(df['Number of Doors'].median(), inplace=True)"
   ]
  },
  {
   "cell_type": "code",
   "execution_count": 12,
   "id": "eb10da88",
   "metadata": {},
   "outputs": [
    {
     "data": {
      "text/plain": [
       "Make                    0\n",
       "Model                   0\n",
       "Year                    0\n",
       "Engine Fuel Type        3\n",
       "Engine HP               0\n",
       "Engine Cylinders        0\n",
       "Transmission Type       0\n",
       "Driven_Wheels           0\n",
       "Number of Doors         0\n",
       "Market Category      3742\n",
       "Vehicle Size            0\n",
       "Vehicle Style           0\n",
       "highway MPG             0\n",
       "city mpg                0\n",
       "Popularity              0\n",
       "MSRP                    0\n",
       "dtype: int64"
      ]
     },
     "execution_count": 12,
     "metadata": {},
     "output_type": "execute_result"
    }
   ],
   "source": [
    "## let's confirm tht missing data has been corrected. \n",
    "\n",
    "df.isnull().sum()"
   ]
  },
  {
   "cell_type": "markdown",
   "id": "d02cad24",
   "metadata": {},
   "source": [
    "We are going to build two models. First one will be based on the entire data set. The second will be based on a filtered data set. This filtered data set will about 96% of the original. The removed 4% are vehices with fairly high MSRP values - I consider these to be outliers. Each model will be based on the same variables - Year, Engine HP, Engine Cylinders, Number of Doors, highway MPG, city mpg,and popularity. "
   ]
  },
  {
   "cell_type": "markdown",
   "id": "63d95089",
   "metadata": {},
   "source": [
    "### Linear Regression Model using entire data set"
   ]
  },
  {
   "cell_type": "code",
   "execution_count": 13,
   "id": "6b7222b6",
   "metadata": {},
   "outputs": [
    {
     "name": "stdout",
     "output_type": "stream",
     "text": [
      "Mean Squared Error: 1063163788.6\n",
      "R squared: 0.554\n"
     ]
    }
   ],
   "source": [
    "#Defining the features (X) and (y)\n",
    "X = df[['Year', 'Engine HP', 'Engine Cylinders', 'Number of Doors', 'highway MPG', 'city mpg', 'Popularity']]\n",
    "y = df['MSRP']\n",
    "\n",
    "#split the data into training and testing sets\n",
    "X_train, X_test, y_train, y_test = train_test_split(X, y, test_size=0.2, random_state=42)\n",
    "\n",
    "#create the linear regression model\n",
    "model = LinearRegression()\n",
    "\n",
    "#train the model\n",
    "model.fit(X_train, y_train)\n",
    "\n",
    "#make predictions\n",
    "y_pred = model.predict(X_test)\n",
    "\n",
    "#evaluate the model\n",
    "mse = mean_squared_error(y_test, y_pred)\n",
    "r2=r2_score(y_test, y_pred)\n",
    "print(f'Mean Squared Error: {mse.round(2)}')\n",
    "print(f'R squared: {r2.round(4)}')"
   ]
  },
  {
   "cell_type": "markdown",
   "id": "08f40972",
   "metadata": {},
   "source": [
    "Definition for above:\n",
    "Mean Squared Error - MSE measures the average squared difference between the predicted values and the actual target values within a dataset. A smaller MSE indicates that the model's predictions are closer to the actual values. \n",
    "R-squared -  the coefficient of determination - is a statistical measure used in machine learning to evaluate the quality of a regression model. The value of R squared will lie between 0 and 1. A higherR-squared value indictes the better fit of the model to the data. "
   ]
  },
  {
   "cell_type": "code",
   "execution_count": 16,
   "id": "1120b7f8",
   "metadata": {},
   "outputs": [
    {
     "name": "stdout",
     "output_type": "stream",
     "text": [
      "       Actual  Predicted  difference  absolute difference\n",
      "3995    29695   41368.87   -11673.87             11673.87\n",
      "7474    30495   15523.86    14971.14             14971.14\n",
      "7300    37650   39535.10    -1885.10              1885.10\n",
      "3148    16170    2349.63    13820.37             13820.37\n",
      "747      2000   -8293.78    10293.78             10293.78\n",
      "...       ...        ...         ...                  ...\n",
      "267     35550   63260.83   -27710.83             27710.83\n",
      "4320    48360   55983.29    -7623.29              7623.29\n",
      "5799    31750    8916.82    22833.18             22833.18\n",
      "6080    20995   18037.91     2957.09              2957.09\n",
      "11511   57700   40620.00    17080.00             17080.00\n",
      "\n",
      "[2383 rows x 4 columns]\n"
     ]
    }
   ],
   "source": [
    "##Comparison of actual versus predicted MSRP values\n",
    "\n",
    "comparison_df = pd.DataFrame({'Actual': y_test, 'Predicted': y_pred.round(2)})\n",
    "comparison_df[\"difference\"] = comparison_df['Actual'] - comparison_df['Predicted']\n",
    "comparison_df[\"absolute difference\"] = np.abs(comparison_df['Actual'] - comparison_df['Predicted'])\n",
    "print(comparison_df)"
   ]
  },
  {
   "cell_type": "code",
   "execution_count": 17,
   "id": "a3514ac9",
   "metadata": {},
   "outputs": [
    {
     "name": "stdout",
     "output_type": "stream",
     "text": [
      "Mean Difference: 20475.76\n"
     ]
    }
   ],
   "source": [
    "mean_absolute_difference = comparison_df['absolute difference'].mean()\n",
    "print(f'Mean Difference: {mean_absolute_difference.round(2)}')"
   ]
  },
  {
   "cell_type": "markdown",
   "id": "c854b420",
   "metadata": {},
   "source": [
    "### Above results don't look all that great.  \n",
    "\n",
    "## Next effort is build linear regression model with a subset of the larger original data set.  "
   ]
  },
  {
   "cell_type": "code",
   "execution_count": 18,
   "id": "4b7feb98",
   "metadata": {},
   "outputs": [
    {
     "name": "stdout",
     "output_type": "stream",
     "text": [
      "MSRP\n",
      "(1999.999, 52000.0]       10089\n",
      "(52000.0, 102000.0]        1200\n",
      "(102000.0, 152000.0]        226\n",
      "(152000.0, 202000.0]        133\n",
      "(202000.0, 252000.0]        109\n",
      "(252000.0, 302000.0]         63\n",
      "(302000.0, 352000.0]         33\n",
      "(352000.0, 402000.0]         15\n",
      "(402000.0, 452000.0]         19\n",
      "(452000.0, 502000.0]         16\n",
      "(502000.0, 552000.0]          4\n",
      "(552000.0, 602000.0]          0\n",
      "(602000.0, 652000.0]          1\n",
      "(652000.0, 702000.0]          0\n",
      "(702000.0, 752000.0]          0\n",
      "(752000.0, 802000.0]          0\n",
      "(802000.0, 852000.0]          0\n",
      "(852000.0, 902000.0]          0\n",
      "(902000.0, 952000.0]          0\n",
      "(952000.0, 1002000.0]         0\n",
      "(1002000.0, 1052000.0]        0\n",
      "(1052000.0, 1102000.0]        0\n",
      "(1102000.0, 1152000.0]        0\n",
      "(1152000.0, 1202000.0]        0\n",
      "(1202000.0, 1252000.0]        0\n",
      "(1252000.0, 1302000.0]        0\n",
      "(1302000.0, 1352000.0]        0\n",
      "(1352000.0, 1402000.0]        2\n",
      "(1402000.0, 1452000.0]        0\n",
      "(1452000.0, 1502000.0]        2\n",
      "(1502000.0, 1552000.0]        0\n",
      "(1552000.0, 1602000.0]        0\n",
      "(1602000.0, 1652000.0]        0\n",
      "(1652000.0, 1702000.0]        0\n",
      "(1702000.0, 1752000.0]        1\n",
      "(1752000.0, 1802000.0]        0\n",
      "(1802000.0, 1852000.0]        0\n",
      "(1852000.0, 1902000.0]        0\n",
      "(1902000.0, 1952000.0]        0\n",
      "(1952000.0, 2002000.0]        0\n",
      "(2002000.0, 2052000.0]        0\n",
      "(2052000.0, 2102000.0]        1\n",
      "(2102000.0, 2152000.0]        0\n",
      "Name: count, dtype: int64\n"
     ]
    }
   ],
   "source": [
    "## As we did in the EDA notebook let's bucketize range of MSRP values \n",
    "\n",
    "#Define the bucket range\n",
    "MSRP_range = range(2000, 2200000, 50000)\n",
    "\n",
    "#create buckets \n",
    "msrp_buckets = pd.cut(df['MSRP'], bins=MSRP_range, include_lowest=True)\n",
    "bucket_counts = msrp_buckets.value_counts().sort_index()\n",
    "\n",
    "print(bucket_counts)"
   ]
  },
  {
   "cell_type": "markdown",
   "id": "8393e032",
   "metadata": {},
   "source": [
    "### Based on above we are going to build a subset of this dataset by omitting wht I consider to be outliers. To me, anything priced higher than 152,000 is an outlier. The new dataset will be MSRP values from 2000 to 152,000. That's approximately 11,515 cars out of the original dataset of 11,914 or 96.6% of the original population. "
   ]
  },
  {
   "cell_type": "code",
   "execution_count": 19,
   "id": "5ab5ee97",
   "metadata": {},
   "outputs": [],
   "source": [
    "#Define MSRP range\n",
    "msrp_min = 2000\n",
    "msrp_max = 152000\n",
    "\n",
    "#create filtered dataframe\n",
    "filtered1_df = df[(df['MSRP']>= msrp_min) & (df['MSRP'] <= msrp_max)]"
   ]
  },
  {
   "cell_type": "code",
   "execution_count": 22,
   "id": "0e7c0ba1",
   "metadata": {},
   "outputs": [
    {
     "name": "stdout",
     "output_type": "stream",
     "text": [
      "MSRP\n",
      "(1999.999, 12000.0]     1674\n",
      "(12000.0, 22000.0]      1595\n",
      "(22000.0, 32000.0]      3355\n",
      "(32000.0, 42000.0]      2275\n",
      "(42000.0, 52000.0]      1190\n",
      "(52000.0, 62000.0]       494\n",
      "(62000.0, 72000.0]       306\n",
      "(72000.0, 82000.0]       157\n",
      "(82000.0, 92000.0]       147\n",
      "(92000.0, 102000.0]       96\n",
      "(102000.0, 112000.0]      60\n",
      "(112000.0, 122000.0]      56\n",
      "(122000.0, 132000.0]      33\n",
      "(132000.0, 142000.0]      42\n",
      "(142000.0, 152000.0]      35\n",
      "(152000.0, 162000.0]       0\n",
      "Name: count, dtype: int64\n"
     ]
    }
   ],
   "source": [
    "##Let's test the new dataframe and this looks good. The new dataframe is comprised of cars from 2000 to 152000. \n",
    "\n",
    "#Define the bucket range\n",
    "MSRP_range = range(2000, 165000, 10000)\n",
    "\n",
    "#create buckets \n",
    "msrp_buckets = pd.cut(filtered1_df['MSRP'], bins=MSRP_range, include_lowest=True)\n",
    "bucket_counts = msrp_buckets.value_counts().sort_index()\n",
    "\n",
    "print(bucket_counts)"
   ]
  },
  {
   "cell_type": "code",
   "execution_count": 27,
   "id": "33867803",
   "metadata": {},
   "outputs": [],
   "source": [
    "#time to build a new linear regression model\n",
    "\n",
    "# Define the features (X) and (y)\n",
    "X1 = filtered1_df[['Year', 'Engine HP', 'Engine Cylinders', 'Number of Doors', 'highway MPG', 'city mpg', 'Popularity']]\n",
    "y1 = filtered1_df['MSRP']\n",
    "\n",
    "#split the data in to training and test sets\n",
    "X1_train, X1_test, y1_train, y1_test = train_test_split(X1, y1, test_size=0.2, random_state=42)\n",
    "\n",
    "#create the linear regression\n",
    "model = LinearRegression()\n",
    "\n",
    "#train the model\n",
    "model.fit(X1_train, y1_train)\n",
    "\n",
    "#make predictions\n",
    "y_pred1 = model.predict(X1_test)"
   ]
  },
  {
   "cell_type": "code",
   "execution_count": 30,
   "id": "6c9a5bb8",
   "metadata": {},
   "outputs": [
    {
     "name": "stdout",
     "output_type": "stream",
     "text": [
      "Mean Squared Error: 148305069.68\n",
      "R squared: 0.7148\n"
     ]
    }
   ],
   "source": [
    "#evalute the model\n",
    "mse = mean_squared_error(y1_test, y_pred1)\n",
    "r2 = r2_score(y1_test, y_pred1)\n",
    "print(f'Mean Squared Error: {mse.round(2)}')\n",
    "print(f'R squared: {r2.round(4)}')"
   ]
  },
  {
   "cell_type": "code",
   "execution_count": 32,
   "id": "1e020876",
   "metadata": {},
   "outputs": [
    {
     "name": "stdout",
     "output_type": "stream",
     "text": [
      "       Actual  Predicted  difference  absolute difference\n",
      "5342    24845   28976.71    -4131.71              4131.71\n",
      "2115    41200   34625.84     6574.16              6574.16\n",
      "3062    29945   28365.67     1579.33              1579.33\n",
      "10413   31260   30209.10     1050.90              1050.90\n",
      "4137    67250   60091.33     7158.67              7158.67\n",
      "...       ...        ...         ...                  ...\n",
      "838     30330   28813.02     1516.98              1516.98\n",
      "6831    13995   10957.54     3037.46              3037.46\n",
      "1223    25830   28070.28    -2240.28              2240.28\n",
      "1613    18995   22660.80    -3665.80              3665.80\n",
      "10944   42550   57022.33   -14472.33             14472.33\n",
      "\n",
      "[2303 rows x 4 columns]\n"
     ]
    }
   ],
   "source": [
    "#Comparison of actual versus predicted MSRP values.\n",
    "\n",
    "comparison_df = pd.DataFrame({'Actual': y1_test, 'Predicted': y_pred1.round(2)})\n",
    "comparison_df[\"difference\"] = comparison_df['Actual'] - comparison_df['Predicted']\n",
    "comparison_df[\"absolute difference\"] = np.abs(comparison_df['Actual'] - comparison_df['Predicted'])\n",
    "print(comparison_df)"
   ]
  },
  {
   "cell_type": "code",
   "execution_count": 33,
   "id": "66e791c6",
   "metadata": {},
   "outputs": [
    {
     "name": "stdout",
     "output_type": "stream",
     "text": [
      "Mean Difference: 8080.15\n"
     ]
    }
   ],
   "source": [
    "mean_absolute_difference = comparison_df['absolute difference'].mean()\n",
    "print(f'Mean Difference: {mean_absolute_difference.round(2)}')"
   ]
  },
  {
   "cell_type": "markdown",
   "id": "66a12da3",
   "metadata": {},
   "source": [
    "### Takeaway, and as indicated in the correlation matrix within the EDA notebook, there is a better correlation between variables and MSRP in the reduced size dataset. The model using the original dataframe (df) produced a mean difference (Actual MSRP to Predicted MSRP) of 20,475 - not very good. The model using the adjusted dataframe (filtered1_df) produced a mean difference (Actual MSRP to Predicted MSRP) of 8,080. This is much better but can we do better by including variables with the data types of object.  "
   ]
  }
 ],
 "metadata": {
  "kernelspec": {
   "display_name": "Python 3 (ipykernel)",
   "language": "python",
   "name": "python3"
  },
  "language_info": {
   "codemirror_mode": {
    "name": "ipython",
    "version": 3
   },
   "file_extension": ".py",
   "mimetype": "text/x-python",
   "name": "python",
   "nbconvert_exporter": "python",
   "pygments_lexer": "ipython3",
   "version": "3.11.5"
  }
 },
 "nbformat": 4,
 "nbformat_minor": 5
}
